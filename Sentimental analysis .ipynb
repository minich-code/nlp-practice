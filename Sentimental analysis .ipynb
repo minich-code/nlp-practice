{
 "cells": [
  {
   "cell_type": "markdown",
   "id": "98ae4eed",
   "metadata": {},
   "source": [
    "# Import Libraries "
   ]
  },
  {
   "cell_type": "code",
   "execution_count": 1,
   "id": "9909477e",
   "metadata": {},
   "outputs": [],
   "source": [
    "import pandas as pd \n",
    "import numpy as np \n",
    "import warnings\n",
    "import matplotlib.pyplot as plt\n",
    "import seaborn as sns\n",
    "import re\n",
    "import nltk\n",
    "from nltk.corpus import stopwords\n",
    "from nltk.stem import PorterStemmer\n",
    "from nltk.stem import WordNetLemmatizer\n",
    "from sklearn.feature_extraction.text import TfidfVectorizer \n",
    "from sklearn.preprocessing import LabelEncoder \n",
    "from sklearn.model_selection import train_test_split \n",
    "from sklearn.pipeline import Pipeline  \n",
    "from sklearn.naive_bayes import MultinomialNB\n",
    "from sklearn.ensemble import RandomForestClassifier\n",
    "from sklearn.neighbors import KNeighborsClassifier\n",
    "from sklearn.svm import SVC\n",
    "from sklearn.model_selection import cross_val_score\n",
    "from matplotlib.colors import ListedColormap\n",
    "from sklearn.metrics import precision_score, recall_score, confusion_matrix, classification_report, accuracy_score, f1_score\n",
    "from sklearn import metrics"
   ]
  },
  {
   "cell_type": "markdown",
   "id": "9ca74752",
   "metadata": {},
   "source": [
    "# Import dataset "
   ]
  },
  {
   "cell_type": "code",
   "execution_count": 2,
   "id": "396beb30",
   "metadata": {},
   "outputs": [
    {
     "data": {
      "text/html": [
       "<div>\n",
       "<style scoped>\n",
       "    .dataframe tbody tr th:only-of-type {\n",
       "        vertical-align: middle;\n",
       "    }\n",
       "\n",
       "    .dataframe tbody tr th {\n",
       "        vertical-align: top;\n",
       "    }\n",
       "\n",
       "    .dataframe thead th {\n",
       "        text-align: right;\n",
       "    }\n",
       "</style>\n",
       "<table border=\"1\" class=\"dataframe\">\n",
       "  <thead>\n",
       "    <tr style=\"text-align: right;\">\n",
       "      <th></th>\n",
       "      <th>text</th>\n",
       "      <th>label</th>\n",
       "    </tr>\n",
       "  </thead>\n",
       "  <tbody>\n",
       "    <tr>\n",
       "      <th>0</th>\n",
       "      <td>I grew up (b. 1965) watching and loving the Th...</td>\n",
       "      <td>0</td>\n",
       "    </tr>\n",
       "    <tr>\n",
       "      <th>1</th>\n",
       "      <td>When I put this movie in my DVD player, and sa...</td>\n",
       "      <td>0</td>\n",
       "    </tr>\n",
       "    <tr>\n",
       "      <th>2</th>\n",
       "      <td>Why do people who do not know what a particula...</td>\n",
       "      <td>0</td>\n",
       "    </tr>\n",
       "    <tr>\n",
       "      <th>3</th>\n",
       "      <td>Even though I have great interest in Biblical ...</td>\n",
       "      <td>0</td>\n",
       "    </tr>\n",
       "    <tr>\n",
       "      <th>4</th>\n",
       "      <td>Im a die hard Dads Army fan and nothing will e...</td>\n",
       "      <td>1</td>\n",
       "    </tr>\n",
       "  </tbody>\n",
       "</table>\n",
       "</div>"
      ],
      "text/plain": [
       "                                                text  label\n",
       "0  I grew up (b. 1965) watching and loving the Th...      0\n",
       "1  When I put this movie in my DVD player, and sa...      0\n",
       "2  Why do people who do not know what a particula...      0\n",
       "3  Even though I have great interest in Biblical ...      0\n",
       "4  Im a die hard Dads Army fan and nothing will e...      1"
      ]
     },
     "execution_count": 2,
     "metadata": {},
     "output_type": "execute_result"
    }
   ],
   "source": [
    "data = pd.read_csv(\"/home/western/Documents/data/Train.csv\")\n",
    "data.head()"
   ]
  },
  {
   "cell_type": "code",
   "execution_count": 36,
   "id": "0812d0c6",
   "metadata": {},
   "outputs": [
    {
     "name": "stdout",
     "output_type": "stream",
     "text": [
      "<class 'pandas.core.frame.DataFrame'>\n",
      "RangeIndex: 40000 entries, 0 to 39999\n",
      "Data columns (total 2 columns):\n",
      " #   Column  Non-Null Count  Dtype \n",
      "---  ------  --------------  ----- \n",
      " 0   text    40000 non-null  object\n",
      " 1   label   40000 non-null  int64 \n",
      "dtypes: int64(1), object(1)\n",
      "memory usage: 625.1+ KB\n"
     ]
    }
   ],
   "source": [
    "data.info()"
   ]
  },
  {
   "cell_type": "markdown",
   "id": "a5fffa66",
   "metadata": {},
   "source": [
    "## Resampling "
   ]
  },
  {
   "cell_type": "code",
   "execution_count": 3,
   "id": "b34abdd1",
   "metadata": {},
   "outputs": [
    {
     "data": {
      "text/html": [
       "<div>\n",
       "<style scoped>\n",
       "    .dataframe tbody tr th:only-of-type {\n",
       "        vertical-align: middle;\n",
       "    }\n",
       "\n",
       "    .dataframe tbody tr th {\n",
       "        vertical-align: top;\n",
       "    }\n",
       "\n",
       "    .dataframe thead th {\n",
       "        text-align: right;\n",
       "    }\n",
       "</style>\n",
       "<table border=\"1\" class=\"dataframe\">\n",
       "  <thead>\n",
       "    <tr style=\"text-align: right;\">\n",
       "      <th></th>\n",
       "      <th>text</th>\n",
       "      <th>label</th>\n",
       "    </tr>\n",
       "  </thead>\n",
       "  <tbody>\n",
       "    <tr>\n",
       "      <th>0</th>\n",
       "      <td>The central theme in this movie seems to be co...</td>\n",
       "      <td>0</td>\n",
       "    </tr>\n",
       "    <tr>\n",
       "      <th>1</th>\n",
       "      <td>An excellent example of \"cowboy noir\", as it's...</td>\n",
       "      <td>1</td>\n",
       "    </tr>\n",
       "    <tr>\n",
       "      <th>2</th>\n",
       "      <td>The ending made my heart jump up into my throa...</td>\n",
       "      <td>0</td>\n",
       "    </tr>\n",
       "    <tr>\n",
       "      <th>3</th>\n",
       "      <td>Only the chosen ones will appreciate the quali...</td>\n",
       "      <td>1</td>\n",
       "    </tr>\n",
       "    <tr>\n",
       "      <th>4</th>\n",
       "      <td>This is a really funny film, especially the se...</td>\n",
       "      <td>1</td>\n",
       "    </tr>\n",
       "    <tr>\n",
       "      <th>5</th>\n",
       "      <td>Sure, we all like bad movies at one time or an...</td>\n",
       "      <td>0</td>\n",
       "    </tr>\n",
       "    <tr>\n",
       "      <th>6</th>\n",
       "      <td>Why?!! This was an insipid, uninspired and emb...</td>\n",
       "      <td>0</td>\n",
       "    </tr>\n",
       "  </tbody>\n",
       "</table>\n",
       "</div>"
      ],
      "text/plain": [
       "                                                text  label\n",
       "0  The central theme in this movie seems to be co...      0\n",
       "1  An excellent example of \"cowboy noir\", as it's...      1\n",
       "2  The ending made my heart jump up into my throa...      0\n",
       "3  Only the chosen ones will appreciate the quali...      1\n",
       "4  This is a really funny film, especially the se...      1\n",
       "5  Sure, we all like bad movies at one time or an...      0\n",
       "6  Why?!! This was an insipid, uninspired and emb...      0"
      ]
     },
     "execution_count": 3,
     "metadata": {},
     "output_type": "execute_result"
    }
   ],
   "source": [
    "# Random sampling \n",
    "df = data.sample(n=7000, random_state=42).reset_index(drop=True)\n",
    "\n",
    "# First 10000 rows\n",
    "#df = df.head(10000)\n",
    "\n",
    "df.head(7)"
   ]
  },
  {
   "cell_type": "code",
   "execution_count": 4,
   "id": "6a96b69d",
   "metadata": {},
   "outputs": [
    {
     "data": {
      "text/html": [
       "<div>\n",
       "<style scoped>\n",
       "    .dataframe tbody tr th:only-of-type {\n",
       "        vertical-align: middle;\n",
       "    }\n",
       "\n",
       "    .dataframe tbody tr th {\n",
       "        vertical-align: top;\n",
       "    }\n",
       "\n",
       "    .dataframe thead th {\n",
       "        text-align: right;\n",
       "    }\n",
       "</style>\n",
       "<table border=\"1\" class=\"dataframe\">\n",
       "  <thead>\n",
       "    <tr style=\"text-align: right;\">\n",
       "      <th></th>\n",
       "      <th>text</th>\n",
       "      <th>label</th>\n",
       "    </tr>\n",
       "  </thead>\n",
       "  <tbody>\n",
       "    <tr>\n",
       "      <th>6995</th>\n",
       "      <td>I still wonder why I watched this movie. Admit...</td>\n",
       "      <td>1</td>\n",
       "    </tr>\n",
       "    <tr>\n",
       "      <th>6996</th>\n",
       "      <td>What to say about a movie like Rock Star? A lo...</td>\n",
       "      <td>1</td>\n",
       "    </tr>\n",
       "    <tr>\n",
       "      <th>6997</th>\n",
       "      <td>Though \"The Sopranos\" is yet another gift from...</td>\n",
       "      <td>1</td>\n",
       "    </tr>\n",
       "    <tr>\n",
       "      <th>6998</th>\n",
       "      <td>On Halloween a town is terrorized by a lunatic...</td>\n",
       "      <td>0</td>\n",
       "    </tr>\n",
       "    <tr>\n",
       "      <th>6999</th>\n",
       "      <td>Licence fees to watch this trash, And pay for ...</td>\n",
       "      <td>0</td>\n",
       "    </tr>\n",
       "  </tbody>\n",
       "</table>\n",
       "</div>"
      ],
      "text/plain": [
       "                                                   text  label\n",
       "6995  I still wonder why I watched this movie. Admit...      1\n",
       "6996  What to say about a movie like Rock Star? A lo...      1\n",
       "6997  Though \"The Sopranos\" is yet another gift from...      1\n",
       "6998  On Halloween a town is terrorized by a lunatic...      0\n",
       "6999  Licence fees to watch this trash, And pay for ...      0"
      ]
     },
     "execution_count": 4,
     "metadata": {},
     "output_type": "execute_result"
    }
   ],
   "source": [
    "df.tail()"
   ]
  },
  {
   "cell_type": "code",
   "execution_count": 5,
   "id": "bd43d8ae",
   "metadata": {},
   "outputs": [
    {
     "name": "stdout",
     "output_type": "stream",
     "text": [
      "<class 'pandas.core.frame.DataFrame'>\n",
      "RangeIndex: 7000 entries, 0 to 6999\n",
      "Data columns (total 2 columns):\n",
      " #   Column  Non-Null Count  Dtype \n",
      "---  ------  --------------  ----- \n",
      " 0   text    7000 non-null   object\n",
      " 1   label   7000 non-null   int64 \n",
      "dtypes: int64(1), object(1)\n",
      "memory usage: 109.5+ KB\n"
     ]
    }
   ],
   "source": [
    "df.info()"
   ]
  },
  {
   "cell_type": "code",
   "execution_count": 6,
   "id": "1dba9eb9",
   "metadata": {},
   "outputs": [
    {
     "data": {
      "text/html": [
       "<div>\n",
       "<style scoped>\n",
       "    .dataframe tbody tr th:only-of-type {\n",
       "        vertical-align: middle;\n",
       "    }\n",
       "\n",
       "    .dataframe tbody tr th {\n",
       "        vertical-align: top;\n",
       "    }\n",
       "\n",
       "    .dataframe thead th {\n",
       "        text-align: right;\n",
       "    }\n",
       "</style>\n",
       "<table border=\"1\" class=\"dataframe\">\n",
       "  <thead>\n",
       "    <tr style=\"text-align: right;\">\n",
       "      <th></th>\n",
       "      <th>count</th>\n",
       "      <th>unique</th>\n",
       "      <th>top</th>\n",
       "      <th>freq</th>\n",
       "    </tr>\n",
       "  </thead>\n",
       "  <tbody>\n",
       "    <tr>\n",
       "      <th>text</th>\n",
       "      <td>7000</td>\n",
       "      <td>6988</td>\n",
       "      <td>This show comes up with interesting locations ...</td>\n",
       "      <td>2</td>\n",
       "    </tr>\n",
       "  </tbody>\n",
       "</table>\n",
       "</div>"
      ],
      "text/plain": [
       "     count unique                                                top freq\n",
       "text  7000   6988  This show comes up with interesting locations ...    2"
      ]
     },
     "execution_count": 6,
     "metadata": {},
     "output_type": "execute_result"
    }
   ],
   "source": [
    "df.describe(include=\"O\").T"
   ]
  },
  {
   "cell_type": "markdown",
   "id": "db877c2b",
   "metadata": {},
   "source": [
    "## Class distribution "
   ]
  },
  {
   "cell_type": "code",
   "execution_count": 7,
   "id": "2a94b687",
   "metadata": {},
   "outputs": [
    {
     "data": {
      "image/png": "[encoded data removed]",
      "text/plain": [
       "<Figure size 600x600 with 1 Axes>"
      ]
     },
     "metadata": {},
     "output_type": "display_data"
    }
   ],
   "source": [
    "# Count occurrences of each category in 'booking_status'\n",
    "labels = df['label'].value_counts()\n",
    "\n",
    "# Plot as a pie chart\n",
    "plt.figure(figsize=(6, 6))  # Set figure size\n",
    "labels.plot(kind='pie', autopct='%1.1f%%', startangle=90, cmap='coolwarm', legend=True)\n",
    "\n",
    "# Customize labels and title\n",
    "plt.ylabel('')  # Remove y-axis label for clarity\n",
    "plt.title('Labels Distribution')\n",
    "\n",
    "# Show the plot\n",
    "plt.show()"
   ]
  },
  {
   "cell_type": "code",
   "execution_count": 8,
   "id": "be8c6c67",
   "metadata": {},
   "outputs": [],
   "source": [
    "# #Adding a column of numbers of charachters,words and sentences in each msg\n",
    "# df[\"No_of_Characters\"] = df[\"text\"].apply(len)\n",
    "# df[\"No_of_Words\"]=df.apply(lambda row: nltk.word_tokenize(row[\"text\"]), axis=1).apply(len)\n",
    "# df[\"No_of_sentence\"]=df.apply(lambda row: nltk.sent_tokenize(row[\"text\"]), axis=1).apply(len)\n",
    "\n",
    "# data.describe().T"
   ]
  },
  {
   "cell_type": "markdown",
   "id": "4d2abe81",
   "metadata": {},
   "source": [
    "# Data Cleaning "
   ]
  },
  {
   "cell_type": "code",
   "execution_count": 9,
   "id": "a83b054d",
   "metadata": {},
   "outputs": [
    {
     "data": {
      "text/plain": [
       "np.int64(12)"
      ]
     },
     "execution_count": 9,
     "metadata": {},
     "output_type": "execute_result"
    }
   ],
   "source": [
    "df.duplicated().sum()"
   ]
  },
  {
   "cell_type": "code",
   "execution_count": 10,
   "id": "7b453e54",
   "metadata": {},
   "outputs": [],
   "source": [
    "df = df.drop_duplicates()"
   ]
  },
  {
   "cell_type": "code",
   "execution_count": 11,
   "id": "2cdf223c",
   "metadata": {},
   "outputs": [
    {
     "data": {
      "text/plain": [
       "np.int64(0)"
      ]
     },
     "execution_count": 11,
     "metadata": {},
     "output_type": "execute_result"
    }
   ],
   "source": [
    "df.duplicated().sum()"
   ]
  },
  {
   "cell_type": "code",
   "execution_count": 12,
   "id": "362e884d",
   "metadata": {},
   "outputs": [
    {
     "name": "stdout",
     "output_type": "stream",
     "text": [
      "<class 'pandas.core.frame.DataFrame'>\n",
      "Index: 6988 entries, 0 to 6998\n",
      "Data columns (total 2 columns):\n",
      " #   Column  Non-Null Count  Dtype \n",
      "---  ------  --------------  ----- \n",
      " 0   text    6988 non-null   object\n",
      " 1   label   6988 non-null   int64 \n",
      "dtypes: int64(1), object(1)\n",
      "memory usage: 163.8+ KB\n"
     ]
    }
   ],
   "source": [
    "df.info()"
   ]
  },
  {
   "cell_type": "markdown",
   "id": "7fa5b96a",
   "metadata": {},
   "source": [
    "# Text Preprocessing "
   ]
  },
  {
   "cell_type": "code",
   "execution_count": 13,
   "id": "dc8fefd0",
   "metadata": {},
   "outputs": [],
   "source": [
    "import re  \n",
    "import string  \n",
    "\n",
    "def clean_text(text):  \n",
    "    '''Make text lowercase, remove text in square brackets, remove links, remove punctuation,  \n",
    "    and remove words containing numbers.'''  \n",
    "    text = str(text).lower()  \n",
    "    text = re.sub(r'\\[.*?\\]', '', text)  \n",
    "    text = re.sub(r'https?://\\S+|www\\.\\S+', '', text)  \n",
    "    text = re.sub(r'<.*?>+', '', text)  \n",
    "    text = re.sub(r'[%s]' % re.escape(string.punctuation), '', text)  \n",
    "    text = re.sub(r'\\n', '', text)  \n",
    "    text = re.sub(r'\\w*\\d\\w*', '', text)  \n",
    "    return text  "
   ]
  },
  {
   "cell_type": "code",
   "execution_count": 14,
   "id": "b64edf04",
   "metadata": {},
   "outputs": [
    {
     "data": {
      "text/html": [
       "<div>\n",
       "<style scoped>\n",
       "    .dataframe tbody tr th:only-of-type {\n",
       "        vertical-align: middle;\n",
       "    }\n",
       "\n",
       "    .dataframe tbody tr th {\n",
       "        vertical-align: top;\n",
       "    }\n",
       "\n",
       "    .dataframe thead th {\n",
       "        text-align: right;\n",
       "    }\n",
       "</style>\n",
       "<table border=\"1\" class=\"dataframe\">\n",
       "  <thead>\n",
       "    <tr style=\"text-align: right;\">\n",
       "      <th></th>\n",
       "      <th>text</th>\n",
       "      <th>label</th>\n",
       "      <th>text_clean</th>\n",
       "    </tr>\n",
       "  </thead>\n",
       "  <tbody>\n",
       "    <tr>\n",
       "      <th>0</th>\n",
       "      <td>The central theme in this movie seems to be co...</td>\n",
       "      <td>0</td>\n",
       "      <td>the central theme in this movie seems to be co...</td>\n",
       "    </tr>\n",
       "    <tr>\n",
       "      <th>1</th>\n",
       "      <td>An excellent example of \"cowboy noir\", as it's...</td>\n",
       "      <td>1</td>\n",
       "      <td>an excellent example of cowboy noir as its bee...</td>\n",
       "    </tr>\n",
       "    <tr>\n",
       "      <th>2</th>\n",
       "      <td>The ending made my heart jump up into my throa...</td>\n",
       "      <td>0</td>\n",
       "      <td>the ending made my heart jump up into my throa...</td>\n",
       "    </tr>\n",
       "    <tr>\n",
       "      <th>3</th>\n",
       "      <td>Only the chosen ones will appreciate the quali...</td>\n",
       "      <td>1</td>\n",
       "      <td>only the chosen ones will appreciate the quali...</td>\n",
       "    </tr>\n",
       "    <tr>\n",
       "      <th>4</th>\n",
       "      <td>This is a really funny film, especially the se...</td>\n",
       "      <td>1</td>\n",
       "      <td>this is a really funny film especially the sec...</td>\n",
       "    </tr>\n",
       "    <tr>\n",
       "      <th>5</th>\n",
       "      <td>Sure, we all like bad movies at one time or an...</td>\n",
       "      <td>0</td>\n",
       "      <td>sure we all like bad movies at one time or ano...</td>\n",
       "    </tr>\n",
       "    <tr>\n",
       "      <th>6</th>\n",
       "      <td>Why?!! This was an insipid, uninspired and emb...</td>\n",
       "      <td>0</td>\n",
       "      <td>why this was an insipid uninspired and embarra...</td>\n",
       "    </tr>\n",
       "    <tr>\n",
       "      <th>7</th>\n",
       "      <td>This is one of those movies that has everythin...</td>\n",
       "      <td>1</td>\n",
       "      <td>this is one of those movies that has everythin...</td>\n",
       "    </tr>\n",
       "    <tr>\n",
       "      <th>8</th>\n",
       "      <td>i saw this film over 20 years ago and still re...</td>\n",
       "      <td>1</td>\n",
       "      <td>i saw this film over  years ago and still reme...</td>\n",
       "    </tr>\n",
       "    <tr>\n",
       "      <th>9</th>\n",
       "      <td>This true story of Carlson's Raiders is more o...</td>\n",
       "      <td>0</td>\n",
       "      <td>this true story of carlsons raiders is more of...</td>\n",
       "    </tr>\n",
       "  </tbody>\n",
       "</table>\n",
       "</div>"
      ],
      "text/plain": [
       "                                                text  label  \\\n",
       "0  The central theme in this movie seems to be co...      0   \n",
       "1  An excellent example of \"cowboy noir\", as it's...      1   \n",
       "2  The ending made my heart jump up into my throa...      0   \n",
       "3  Only the chosen ones will appreciate the quali...      1   \n",
       "4  This is a really funny film, especially the se...      1   \n",
       "5  Sure, we all like bad movies at one time or an...      0   \n",
       "6  Why?!! This was an insipid, uninspired and emb...      0   \n",
       "7  This is one of those movies that has everythin...      1   \n",
       "8  i saw this film over 20 years ago and still re...      1   \n",
       "9  This true story of Carlson's Raiders is more o...      0   \n",
       "\n",
       "                                          text_clean  \n",
       "0  the central theme in this movie seems to be co...  \n",
       "1  an excellent example of cowboy noir as its bee...  \n",
       "2  the ending made my heart jump up into my throa...  \n",
       "3  only the chosen ones will appreciate the quali...  \n",
       "4  this is a really funny film especially the sec...  \n",
       "5  sure we all like bad movies at one time or ano...  \n",
       "6  why this was an insipid uninspired and embarra...  \n",
       "7  this is one of those movies that has everythin...  \n",
       "8  i saw this film over  years ago and still reme...  \n",
       "9  this true story of carlsons raiders is more of...  "
      ]
     },
     "execution_count": 14,
     "metadata": {},
     "output_type": "execute_result"
    }
   ],
   "source": [
    "# Apply the function\n",
    "df['text_clean'] = df['text'].apply(clean_text)  \n",
    "\n",
    "# Display the first 10rows  \n",
    "df.head(10)"
   ]
  },
  {
   "cell_type": "code",
   "execution_count": 15,
   "id": "50f45fb8",
   "metadata": {},
   "outputs": [
    {
     "name": "stderr",
     "output_type": "stream",
     "text": [
      "[nltk_data] Downloading package punkt to /home/western/nltk_data...\n",
      "[nltk_data]   Package punkt is already up-to-date!\n",
      "[nltk_data] Downloading package stopwords to\n",
      "[nltk_data]     /home/western/nltk_data...\n",
      "[nltk_data]   Package stopwords is already up-to-date!\n",
      "[nltk_data] Downloading package wordnet to /home/western/nltk_data...\n",
      "[nltk_data]   Package wordnet is already up-to-date!\n"
     ]
    },
    {
     "data": {
      "text/plain": [
       "True"
      ]
     },
     "execution_count": 15,
     "metadata": {},
     "output_type": "execute_result"
    }
   ],
   "source": [
    "import nltk\n",
    "import pandas as pd\n",
    "from nltk.tokenize import word_tokenize\n",
    "from nltk.corpus import stopwords\n",
    "from nltk.stem import WordNetLemmatizer\n",
    "\n",
    "# Download necessary NLTK resources\n",
    "nltk.download('punkt')\n",
    "nltk.download('stopwords')\n",
    "nltk.download('wordnet')"
   ]
  },
  {
   "cell_type": "code",
   "execution_count": null,
   "id": "65f0527c",
   "metadata": {},
   "outputs": [],
   "source": [
    "# Try with spacy"
   ]
  },
  {
   "cell_type": "markdown",
   "id": "1a63122d",
   "metadata": {},
   "source": [
    "## Tokenization "
   ]
  },
  {
   "cell_type": "code",
   "execution_count": 16,
   "id": "7c20bcd1",
   "metadata": {},
   "outputs": [
    {
     "data": {
      "text/html": [
       "<div>\n",
       "<style scoped>\n",
       "    .dataframe tbody tr th:only-of-type {\n",
       "        vertical-align: middle;\n",
       "    }\n",
       "\n",
       "    .dataframe tbody tr th {\n",
       "        vertical-align: top;\n",
       "    }\n",
       "\n",
       "    .dataframe thead th {\n",
       "        text-align: right;\n",
       "    }\n",
       "</style>\n",
       "<table border=\"1\" class=\"dataframe\">\n",
       "  <thead>\n",
       "    <tr style=\"text-align: right;\">\n",
       "      <th></th>\n",
       "      <th>text</th>\n",
       "      <th>label</th>\n",
       "      <th>text_clean</th>\n",
       "      <th>tokens</th>\n",
       "    </tr>\n",
       "  </thead>\n",
       "  <tbody>\n",
       "    <tr>\n",
       "      <th>0</th>\n",
       "      <td>The central theme in this movie seems to be co...</td>\n",
       "      <td>0</td>\n",
       "      <td>the central theme in this movie seems to be co...</td>\n",
       "      <td>[the, central, theme, in, this, movie, seems, ...</td>\n",
       "    </tr>\n",
       "    <tr>\n",
       "      <th>1</th>\n",
       "      <td>An excellent example of \"cowboy noir\", as it's...</td>\n",
       "      <td>1</td>\n",
       "      <td>an excellent example of cowboy noir as its bee...</td>\n",
       "      <td>[an, excellent, example, of, cowboy, noir, as,...</td>\n",
       "    </tr>\n",
       "    <tr>\n",
       "      <th>2</th>\n",
       "      <td>The ending made my heart jump up into my throa...</td>\n",
       "      <td>0</td>\n",
       "      <td>the ending made my heart jump up into my throa...</td>\n",
       "      <td>[the, ending, made, my, heart, jump, up, into,...</td>\n",
       "    </tr>\n",
       "    <tr>\n",
       "      <th>3</th>\n",
       "      <td>Only the chosen ones will appreciate the quali...</td>\n",
       "      <td>1</td>\n",
       "      <td>only the chosen ones will appreciate the quali...</td>\n",
       "      <td>[only, the, chosen, ones, will, appreciate, th...</td>\n",
       "    </tr>\n",
       "    <tr>\n",
       "      <th>4</th>\n",
       "      <td>This is a really funny film, especially the se...</td>\n",
       "      <td>1</td>\n",
       "      <td>this is a really funny film especially the sec...</td>\n",
       "      <td>[this, is, a, really, funny, film, especially,...</td>\n",
       "    </tr>\n",
       "  </tbody>\n",
       "</table>\n",
       "</div>"
      ],
      "text/plain": [
       "                                                text  label  \\\n",
       "0  The central theme in this movie seems to be co...      0   \n",
       "1  An excellent example of \"cowboy noir\", as it's...      1   \n",
       "2  The ending made my heart jump up into my throa...      0   \n",
       "3  Only the chosen ones will appreciate the quali...      1   \n",
       "4  This is a really funny film, especially the se...      1   \n",
       "\n",
       "                                          text_clean  \\\n",
       "0  the central theme in this movie seems to be co...   \n",
       "1  an excellent example of cowboy noir as its bee...   \n",
       "2  the ending made my heart jump up into my throa...   \n",
       "3  only the chosen ones will appreciate the quali...   \n",
       "4  this is a really funny film especially the sec...   \n",
       "\n",
       "                                              tokens  \n",
       "0  [the, central, theme, in, this, movie, seems, ...  \n",
       "1  [an, excellent, example, of, cowboy, noir, as,...  \n",
       "2  [the, ending, made, my, heart, jump, up, into,...  \n",
       "3  [only, the, chosen, ones, will, appreciate, th...  \n",
       "4  [this, is, a, really, funny, film, especially,...  "
      ]
     },
     "execution_count": 16,
     "metadata": {},
     "output_type": "execute_result"
    }
   ],
   "source": [
    "df['tokens'] = df['text_clean'].apply(word_tokenize)\n",
    "df.head()\n"
   ]
  },
  {
   "cell_type": "markdown",
   "id": "4444f9f1",
   "metadata": {},
   "source": [
    "## Stop words removal "
   ]
  },
  {
   "cell_type": "code",
   "execution_count": 17,
   "id": "9665cfd3",
   "metadata": {},
   "outputs": [
    {
     "data": {
      "text/html": [
       "<div>\n",
       "<style scoped>\n",
       "    .dataframe tbody tr th:only-of-type {\n",
       "        vertical-align: middle;\n",
       "    }\n",
       "\n",
       "    .dataframe tbody tr th {\n",
       "        vertical-align: top;\n",
       "    }\n",
       "\n",
       "    .dataframe thead th {\n",
       "        text-align: right;\n",
       "    }\n",
       "</style>\n",
       "<table border=\"1\" class=\"dataframe\">\n",
       "  <thead>\n",
       "    <tr style=\"text-align: right;\">\n",
       "      <th></th>\n",
       "      <th>text</th>\n",
       "      <th>label</th>\n",
       "      <th>text_clean</th>\n",
       "      <th>tokens</th>\n",
       "      <th>tokens_no_stopwords</th>\n",
       "    </tr>\n",
       "  </thead>\n",
       "  <tbody>\n",
       "    <tr>\n",
       "      <th>0</th>\n",
       "      <td>The central theme in this movie seems to be co...</td>\n",
       "      <td>0</td>\n",
       "      <td>the central theme in this movie seems to be co...</td>\n",
       "      <td>[the, central, theme, in, this, movie, seems, ...</td>\n",
       "      <td>[central, theme, movie, seems, confusion, rela...</td>\n",
       "    </tr>\n",
       "    <tr>\n",
       "      <th>1</th>\n",
       "      <td>An excellent example of \"cowboy noir\", as it's...</td>\n",
       "      <td>1</td>\n",
       "      <td>an excellent example of cowboy noir as its bee...</td>\n",
       "      <td>[an, excellent, example, of, cowboy, noir, as,...</td>\n",
       "      <td>[excellent, example, cowboy, noir, called, une...</td>\n",
       "    </tr>\n",
       "    <tr>\n",
       "      <th>2</th>\n",
       "      <td>The ending made my heart jump up into my throa...</td>\n",
       "      <td>0</td>\n",
       "      <td>the ending made my heart jump up into my throa...</td>\n",
       "      <td>[the, ending, made, my, heart, jump, up, into,...</td>\n",
       "      <td>[ending, made, heart, jump, throat, proceeded,...</td>\n",
       "    </tr>\n",
       "    <tr>\n",
       "      <th>3</th>\n",
       "      <td>Only the chosen ones will appreciate the quali...</td>\n",
       "      <td>1</td>\n",
       "      <td>only the chosen ones will appreciate the quali...</td>\n",
       "      <td>[only, the, chosen, ones, will, appreciate, th...</td>\n",
       "      <td>[chosen, ones, appreciate, quality, story, cha...</td>\n",
       "    </tr>\n",
       "    <tr>\n",
       "      <th>4</th>\n",
       "      <td>This is a really funny film, especially the se...</td>\n",
       "      <td>1</td>\n",
       "      <td>this is a really funny film especially the sec...</td>\n",
       "      <td>[this, is, a, really, funny, film, especially,...</td>\n",
       "      <td>[really, funny, film, especially, second, thir...</td>\n",
       "    </tr>\n",
       "  </tbody>\n",
       "</table>\n",
       "</div>"
      ],
      "text/plain": [
       "                                                text  label  \\\n",
       "0  The central theme in this movie seems to be co...      0   \n",
       "1  An excellent example of \"cowboy noir\", as it's...      1   \n",
       "2  The ending made my heart jump up into my throa...      0   \n",
       "3  Only the chosen ones will appreciate the quali...      1   \n",
       "4  This is a really funny film, especially the se...      1   \n",
       "\n",
       "                                          text_clean  \\\n",
       "0  the central theme in this movie seems to be co...   \n",
       "1  an excellent example of cowboy noir as its bee...   \n",
       "2  the ending made my heart jump up into my throa...   \n",
       "3  only the chosen ones will appreciate the quali...   \n",
       "4  this is a really funny film especially the sec...   \n",
       "\n",
       "                                              tokens  \\\n",
       "0  [the, central, theme, in, this, movie, seems, ...   \n",
       "1  [an, excellent, example, of, cowboy, noir, as,...   \n",
       "2  [the, ending, made, my, heart, jump, up, into,...   \n",
       "3  [only, the, chosen, ones, will, appreciate, th...   \n",
       "4  [this, is, a, really, funny, film, especially,...   \n",
       "\n",
       "                                 tokens_no_stopwords  \n",
       "0  [central, theme, movie, seems, confusion, rela...  \n",
       "1  [excellent, example, cowboy, noir, called, une...  \n",
       "2  [ending, made, heart, jump, throat, proceeded,...  \n",
       "3  [chosen, ones, appreciate, quality, story, cha...  \n",
       "4  [really, funny, film, especially, second, thir...  "
      ]
     },
     "execution_count": 17,
     "metadata": {},
     "output_type": "execute_result"
    }
   ],
   "source": [
    "stop_words = set(stopwords.words('english'))\n",
    "stop_words.update(['u', 'im', 'c', 'i'])  # Add custom stopwords\n",
    "\n",
    "df['tokens_no_stopwords'] = df['tokens'].apply(lambda tokens: [word for word in tokens if word.lower() not in stop_words])\n",
    "df.head()\n"
   ]
  },
  {
   "cell_type": "markdown",
   "id": "1dab97b2",
   "metadata": {},
   "source": [
    "## Lemmatization "
   ]
  },
  {
   "cell_type": "code",
   "execution_count": 18,
   "id": "f2dbc731",
   "metadata": {},
   "outputs": [
    {
     "data": {
      "text/html": [
       "<div>\n",
       "<style scoped>\n",
       "    .dataframe tbody tr th:only-of-type {\n",
       "        vertical-align: middle;\n",
       "    }\n",
       "\n",
       "    .dataframe tbody tr th {\n",
       "        vertical-align: top;\n",
       "    }\n",
       "\n",
       "    .dataframe thead th {\n",
       "        text-align: right;\n",
       "    }\n",
       "</style>\n",
       "<table border=\"1\" class=\"dataframe\">\n",
       "  <thead>\n",
       "    <tr style=\"text-align: right;\">\n",
       "      <th></th>\n",
       "      <th>text</th>\n",
       "      <th>label</th>\n",
       "      <th>text_clean</th>\n",
       "      <th>tokens</th>\n",
       "      <th>tokens_no_stopwords</th>\n",
       "      <th>lemmatized</th>\n",
       "      <th>lemmatized_text</th>\n",
       "    </tr>\n",
       "  </thead>\n",
       "  <tbody>\n",
       "    <tr>\n",
       "      <th>0</th>\n",
       "      <td>The central theme in this movie seems to be co...</td>\n",
       "      <td>0</td>\n",
       "      <td>the central theme in this movie seems to be co...</td>\n",
       "      <td>[the, central, theme, in, this, movie, seems, ...</td>\n",
       "      <td>[central, theme, movie, seems, confusion, rela...</td>\n",
       "      <td>[central, theme, movie, seems, confusion, rela...</td>\n",
       "      <td>central theme movie seems confusion relationsh...</td>\n",
       "    </tr>\n",
       "    <tr>\n",
       "      <th>1</th>\n",
       "      <td>An excellent example of \"cowboy noir\", as it's...</td>\n",
       "      <td>1</td>\n",
       "      <td>an excellent example of cowboy noir as its bee...</td>\n",
       "      <td>[an, excellent, example, of, cowboy, noir, as,...</td>\n",
       "      <td>[excellent, example, cowboy, noir, called, une...</td>\n",
       "      <td>[excellent, example, cowboy, noir, called, une...</td>\n",
       "      <td>excellent example cowboy noir called unemploye...</td>\n",
       "    </tr>\n",
       "    <tr>\n",
       "      <th>2</th>\n",
       "      <td>The ending made my heart jump up into my throa...</td>\n",
       "      <td>0</td>\n",
       "      <td>the ending made my heart jump up into my throa...</td>\n",
       "      <td>[the, ending, made, my, heart, jump, up, into,...</td>\n",
       "      <td>[ending, made, heart, jump, throat, proceeded,...</td>\n",
       "      <td>[ending, made, heart, jump, throat, proceeded,...</td>\n",
       "      <td>ending made heart jump throat proceeded leave ...</td>\n",
       "    </tr>\n",
       "    <tr>\n",
       "      <th>3</th>\n",
       "      <td>Only the chosen ones will appreciate the quali...</td>\n",
       "      <td>1</td>\n",
       "      <td>only the chosen ones will appreciate the quali...</td>\n",
       "      <td>[only, the, chosen, ones, will, appreciate, th...</td>\n",
       "      <td>[chosen, ones, appreciate, quality, story, cha...</td>\n",
       "      <td>[chosen, one, appreciate, quality, story, char...</td>\n",
       "      <td>chosen one appreciate quality story character ...</td>\n",
       "    </tr>\n",
       "    <tr>\n",
       "      <th>4</th>\n",
       "      <td>This is a really funny film, especially the se...</td>\n",
       "      <td>1</td>\n",
       "      <td>this is a really funny film especially the sec...</td>\n",
       "      <td>[this, is, a, really, funny, film, especially,...</td>\n",
       "      <td>[really, funny, film, especially, second, thir...</td>\n",
       "      <td>[really, funny, film, especially, second, thir...</td>\n",
       "      <td>really funny film especially second third four...</td>\n",
       "    </tr>\n",
       "    <tr>\n",
       "      <th>5</th>\n",
       "      <td>Sure, we all like bad movies at one time or an...</td>\n",
       "      <td>0</td>\n",
       "      <td>sure we all like bad movies at one time or ano...</td>\n",
       "      <td>[sure, we, all, like, bad, movies, at, one, ti...</td>\n",
       "      <td>[sure, like, bad, movies, one, time, another, ...</td>\n",
       "      <td>[sure, like, bad, movie, one, time, another, f...</td>\n",
       "      <td>sure like bad movie one time another fact enjo...</td>\n",
       "    </tr>\n",
       "    <tr>\n",
       "      <th>6</th>\n",
       "      <td>Why?!! This was an insipid, uninspired and emb...</td>\n",
       "      <td>0</td>\n",
       "      <td>why this was an insipid uninspired and embarra...</td>\n",
       "      <td>[why, this, was, an, insipid, uninspired, and,...</td>\n",
       "      <td>[insipid, uninspired, embarrassing, film, emba...</td>\n",
       "      <td>[insipid, uninspired, embarrassing, film, emba...</td>\n",
       "      <td>insipid uninspired embarrassing film embarrass...</td>\n",
       "    </tr>\n",
       "  </tbody>\n",
       "</table>\n",
       "</div>"
      ],
      "text/plain": [
       "                                                text  label  \\\n",
       "0  The central theme in this movie seems to be co...      0   \n",
       "1  An excellent example of \"cowboy noir\", as it's...      1   \n",
       "2  The ending made my heart jump up into my throa...      0   \n",
       "3  Only the chosen ones will appreciate the quali...      1   \n",
       "4  This is a really funny film, especially the se...      1   \n",
       "5  Sure, we all like bad movies at one time or an...      0   \n",
       "6  Why?!! This was an insipid, uninspired and emb...      0   \n",
       "\n",
       "                                          text_clean  \\\n",
       "0  the central theme in this movie seems to be co...   \n",
       "1  an excellent example of cowboy noir as its bee...   \n",
       "2  the ending made my heart jump up into my throa...   \n",
       "3  only the chosen ones will appreciate the quali...   \n",
       "4  this is a really funny film especially the sec...   \n",
       "5  sure we all like bad movies at one time or ano...   \n",
       "6  why this was an insipid uninspired and embarra...   \n",
       "\n",
       "                                              tokens  \\\n",
       "0  [the, central, theme, in, this, movie, seems, ...   \n",
       "1  [an, excellent, example, of, cowboy, noir, as,...   \n",
       "2  [the, ending, made, my, heart, jump, up, into,...   \n",
       "3  [only, the, chosen, ones, will, appreciate, th...   \n",
       "4  [this, is, a, really, funny, film, especially,...   \n",
       "5  [sure, we, all, like, bad, movies, at, one, ti...   \n",
       "6  [why, this, was, an, insipid, uninspired, and,...   \n",
       "\n",
       "                                 tokens_no_stopwords  \\\n",
       "0  [central, theme, movie, seems, confusion, rela...   \n",
       "1  [excellent, example, cowboy, noir, called, une...   \n",
       "2  [ending, made, heart, jump, throat, proceeded,...   \n",
       "3  [chosen, ones, appreciate, quality, story, cha...   \n",
       "4  [really, funny, film, especially, second, thir...   \n",
       "5  [sure, like, bad, movies, one, time, another, ...   \n",
       "6  [insipid, uninspired, embarrassing, film, emba...   \n",
       "\n",
       "                                          lemmatized  \\\n",
       "0  [central, theme, movie, seems, confusion, rela...   \n",
       "1  [excellent, example, cowboy, noir, called, une...   \n",
       "2  [ending, made, heart, jump, throat, proceeded,...   \n",
       "3  [chosen, one, appreciate, quality, story, char...   \n",
       "4  [really, funny, film, especially, second, thir...   \n",
       "5  [sure, like, bad, movie, one, time, another, f...   \n",
       "6  [insipid, uninspired, embarrassing, film, emba...   \n",
       "\n",
       "                                     lemmatized_text  \n",
       "0  central theme movie seems confusion relationsh...  \n",
       "1  excellent example cowboy noir called unemploye...  \n",
       "2  ending made heart jump throat proceeded leave ...  \n",
       "3  chosen one appreciate quality story character ...  \n",
       "4  really funny film especially second third four...  \n",
       "5  sure like bad movie one time another fact enjo...  \n",
       "6  insipid uninspired embarrassing film embarrass...  "
      ]
     },
     "execution_count": 18,
     "metadata": {},
     "output_type": "execute_result"
    }
   ],
   "source": [
    "lemmatizer = WordNetLemmatizer()\n",
    "\n",
    "df['lemmatized'] = df['tokens_no_stopwords'].apply(lambda tokens: [lemmatizer.lemmatize(word) for word in tokens])\n",
    "df['lemmatized_text'] = df['lemmatized'].apply(lambda tokens: ' '.join(tokens))  # Convert tokens back to text\n",
    "\n",
    "df.head(7)\n"
   ]
  },
  {
   "cell_type": "code",
   "execution_count": 19,
   "id": "ff8aecde",
   "metadata": {},
   "outputs": [
    {
     "data": {
      "text/plain": [
       "Index(['text', 'label', 'text_clean', 'tokens', 'tokens_no_stopwords',\n",
       "       'lemmatized', 'lemmatized_text'],\n",
       "      dtype='object')"
      ]
     },
     "execution_count": 19,
     "metadata": {},
     "output_type": "execute_result"
    }
   ],
   "source": [
    "df.columns"
   ]
  },
  {
   "cell_type": "markdown",
   "id": "09c283f0",
   "metadata": {},
   "source": [
    "## Word Cloud "
   ]
  },
  {
   "cell_type": "markdown",
   "id": "4de51ba5",
   "metadata": {},
   "source": [
    "### Define target and independent features"
   ]
  },
  {
   "cell_type": "code",
   "execution_count": 20,
   "id": "266986e8",
   "metadata": {},
   "outputs": [],
   "source": [
    "\n",
    "# # Define the features \n",
    "# df = df.dropna()\n",
    "# # Defining the dependent variables/features\n",
    "# X = df.drop(columns=['text', 'label', 'text_clean', 'tokens', 'tokens_no_stopwords',\n",
    "#        'lemmatized'])\n",
    "# # Target variable \n",
    "# y = df['label']\n",
    "\n",
    "# Ensure no missing values\n",
    "df = df.dropna()\n",
    "\n",
    "# Use only the text column for TF-IDF vectorization\n",
    "X = df['lemmatized_text']  # Use lemmatized text for TF-IDF\n",
    "y = df['label']  # Target variable\n"
   ]
  },
  {
   "cell_type": "code",
   "execution_count": 21,
   "id": "23a3d86a",
   "metadata": {},
   "outputs": [
    {
     "data": {
      "text/plain": [
       "0       central theme movie seems confusion relationsh...\n",
       "1       excellent example cowboy noir called unemploye...\n",
       "2       ending made heart jump throat proceeded leave ...\n",
       "3       chosen one appreciate quality story character ...\n",
       "4       really funny film especially second third four...\n",
       "                              ...                        \n",
       "6994    wallace gromit main character best cartoon eve...\n",
       "6995    still wonder watched movie admittedly viewed f...\n",
       "6996    say movie like rock star lot actually type mov...\n",
       "6997    though soprano yet another gift megahit godfat...\n",
       "6998    halloween town terrorized lunatic big pumpkin ...\n",
       "Name: lemmatized_text, Length: 6988, dtype: object"
      ]
     },
     "execution_count": 21,
     "metadata": {},
     "output_type": "execute_result"
    }
   ],
   "source": [
    "X"
   ]
  },
  {
   "cell_type": "code",
   "execution_count": 22,
   "id": "af990c6c",
   "metadata": {},
   "outputs": [
    {
     "data": {
      "text/plain": [
       "0       0\n",
       "1       1\n",
       "2       0\n",
       "3       1\n",
       "4       1\n",
       "       ..\n",
       "6994    1\n",
       "6995    1\n",
       "6996    1\n",
       "6997    1\n",
       "6998    0\n",
       "Name: label, Length: 6988, dtype: int64"
      ]
     },
     "execution_count": 22,
     "metadata": {},
     "output_type": "execute_result"
    }
   ],
   "source": [
    "y"
   ]
  },
  {
   "cell_type": "markdown",
   "id": "af73e17a",
   "metadata": {},
   "source": [
    "### Split into training and testing "
   ]
  },
  {
   "cell_type": "code",
   "execution_count": 23,
   "id": "399b3ff4",
   "metadata": {},
   "outputs": [],
   "source": [
    "# Split data (80% train, 20% test)\n",
    "X_train, X_test, y_train, y_test = train_test_split(X, y, test_size=0.2, random_state=42, stratify=y)"
   ]
  },
  {
   "cell_type": "code",
   "execution_count": 24,
   "id": "c474aa92",
   "metadata": {},
   "outputs": [
    {
     "data": {
      "text/plain": [
       "694     ok maybe north east scotland talk like guy fil...\n",
       "2691    time u everything possible film came roughies ...\n",
       "3569    wrong people werent blown away action car sequ...\n",
       "4151    man wonder hunky coworker gay yard sale find r...\n",
       "4088    saw film london cinema seen since found hilari...\n",
       "                              ...                        \n",
       "1308    alexandra ripley wrote horrible sequel margare...\n",
       "2345    film reveals unease modern men woman life conf...\n",
       "3657    seldom see short comment written imdb filmgoer...\n",
       "1301    strangely enough movie never made big screen d...\n",
       "129     saw video year ago would love see dvd good fil...\n",
       "Name: lemmatized_text, Length: 5590, dtype: object"
      ]
     },
     "execution_count": 24,
     "metadata": {},
     "output_type": "execute_result"
    }
   ],
   "source": [
    "X_train"
   ]
  },
  {
   "cell_type": "code",
   "execution_count": 25,
   "id": "e26809aa",
   "metadata": {},
   "outputs": [
    {
     "data": {
      "text/plain": [
       "5543    everything film tried done better superbly run...\n",
       "4166    beginning movie give feeling director trying p...\n",
       "6449    first movie longtime friend john belushis deat...\n",
       "2752    cryptozoologist capture mythical chupacabra ca...\n",
       "9       true story carlsons raider army training film ...\n",
       "                              ...                        \n",
       "4588    show typical character comedy good guy idiot p...\n",
       "263     young couple road minding business casual sex ...\n",
       "1978    oh dear oh dear started watching knowing expec...\n",
       "6000    film rated scale one would need create new rat...\n",
       "1575    film one finest american bmovies youre looking...\n",
       "Name: lemmatized_text, Length: 1398, dtype: object"
      ]
     },
     "execution_count": 25,
     "metadata": {},
     "output_type": "execute_result"
    }
   ],
   "source": [
    "X_test"
   ]
  },
  {
   "cell_type": "code",
   "execution_count": 26,
   "id": "96f8a1a5",
   "metadata": {},
   "outputs": [
    {
     "data": {
      "text/plain": [
       "694     1\n",
       "2691    0\n",
       "3569    1\n",
       "4151    0\n",
       "4088    1\n",
       "       ..\n",
       "1308    0\n",
       "2345    1\n",
       "3657    1\n",
       "1301    1\n",
       "129     1\n",
       "Name: label, Length: 5590, dtype: int64"
      ]
     },
     "execution_count": 26,
     "metadata": {},
     "output_type": "execute_result"
    }
   ],
   "source": [
    "y_train"
   ]
  },
  {
   "cell_type": "code",
   "execution_count": 27,
   "id": "8ce6a735",
   "metadata": {},
   "outputs": [
    {
     "data": {
      "text/plain": [
       "5543    0\n",
       "4166    0\n",
       "6449    0\n",
       "2752    0\n",
       "9       0\n",
       "       ..\n",
       "4588    1\n",
       "263     0\n",
       "1978    0\n",
       "6000    0\n",
       "1575    1\n",
       "Name: label, Length: 1398, dtype: int64"
      ]
     },
     "execution_count": 27,
     "metadata": {},
     "output_type": "execute_result"
    }
   ],
   "source": [
    "y_test"
   ]
  },
  {
   "cell_type": "markdown",
   "id": "c50f890d",
   "metadata": {},
   "source": [
    "## Vectorization "
   ]
  },
  {
   "cell_type": "code",
   "execution_count": 28,
   "id": "9db2a40d",
   "metadata": {},
   "outputs": [],
   "source": [
    "# Initialize TF-IDF vectorizer\n",
    "vectorizer = TfidfVectorizer(max_features=7500)\n",
    "\n",
    "# Fit & transform training data\n",
    "X_train_tfidf = vectorizer.fit_transform(X_train)  # Fit & transform training data\n",
    "\n",
    "# Transform test data (DO NOT fit again to avoid data leakage)\n",
    "X_test_tfidf = vectorizer.transform(X_test)  # Transform test data (no fitting!)\n",
    "\n"
   ]
  },
  {
   "cell_type": "code",
   "execution_count": 29,
   "id": "23212431",
   "metadata": {},
   "outputs": [
    {
     "name": "stdout",
     "output_type": "stream",
     "text": [
      "X_train_tfidf shape: (5590, 7500), y_train shape: (5590,)\n",
      "X_test_tfidf shape: (1398, 7500), y_test shape: (1398,)\n"
     ]
    }
   ],
   "source": [
    "# Check shapes to confirm they match\n",
    "print(f\"X_train_tfidf shape: {X_train_tfidf.shape}, y_train shape: {y_train.shape}\")\n",
    "print(f\"X_test_tfidf shape: {X_test_tfidf.shape}, y_test shape: {y_test.shape}\")\n"
   ]
  },
  {
   "cell_type": "code",
   "execution_count": 38,
   "id": "78c950dc",
   "metadata": {},
   "outputs": [
    {
     "name": "stdout",
     "output_type": "stream",
     "text": [
      "\n",
      "🔹 Model: Logistic Regression\n",
      "Accuracy: 0.8541\n",
      "              precision    recall  f1-score   support\n",
      "\n",
      "           0       0.87      0.83      0.85       694\n",
      "           1       0.84      0.88      0.86       704\n",
      "\n",
      "    accuracy                           0.85      1398\n",
      "   macro avg       0.86      0.85      0.85      1398\n",
      "weighted avg       0.85      0.85      0.85      1398\n",
      "\n",
      "[[574 120]\n",
      " [ 84 620]]\n",
      "\n",
      "🔹 Model: Naïve Bayes\n",
      "Accuracy: 0.8362\n",
      "              precision    recall  f1-score   support\n",
      "\n",
      "           0       0.83      0.84      0.84       694\n",
      "           1       0.84      0.84      0.84       704\n",
      "\n",
      "    accuracy                           0.84      1398\n",
      "   macro avg       0.84      0.84      0.84      1398\n",
      "weighted avg       0.84      0.84      0.84      1398\n",
      "\n",
      "[[581 113]\n",
      " [116 588]]\n",
      "\n",
      "🔹 Model: Random Forest\n",
      "Accuracy: 0.8276\n",
      "              precision    recall  f1-score   support\n",
      "\n",
      "           0       0.82      0.84      0.83       694\n",
      "           1       0.84      0.82      0.83       704\n",
      "\n",
      "    accuracy                           0.83      1398\n",
      "   macro avg       0.83      0.83      0.83      1398\n",
      "weighted avg       0.83      0.83      0.83      1398\n",
      "\n",
      "[[582 112]\n",
      " [129 575]]\n",
      "\n",
      "🔹 Model: XGBoost\n",
      "Accuracy: 0.8147\n",
      "              precision    recall  f1-score   support\n",
      "\n",
      "           0       0.83      0.79      0.81       694\n",
      "           1       0.80      0.84      0.82       704\n",
      "\n",
      "    accuracy                           0.81      1398\n",
      "   macro avg       0.82      0.81      0.81      1398\n",
      "weighted avg       0.82      0.81      0.81      1398\n",
      "\n",
      "[[551 143]\n",
      " [116 588]]\n"
     ]
    }
   ],
   "source": [
    "\n",
    "from sklearn.ensemble import RandomForestClassifier\n",
    "from sklearn.linear_model import LogisticRegression\n",
    "from sklearn.naive_bayes import MultinomialNB\n",
    "from xgboost import XGBClassifier\n",
    "from sklearn.metrics import accuracy_score, classification_report\n",
    "\n",
    "# Initialize models\n",
    "models = {\n",
    "    \"Logistic Regression\": LogisticRegression(max_iter=1000),\n",
    "    \"Naïve Bayes\": MultinomialNB(),\n",
    "    \"Random Forest\": RandomForestClassifier(n_estimators=200, random_state=42),\n",
    "    \"XGBoost\": XGBClassifier(eval_metric='mlogloss', random_state=42)\n",
    "}\n",
    "\n",
    "# Train and evaluate each model\n",
    "for name, model in models.items():\n",
    "    model.fit(X_train_tfidf, y_train)  # Train model\n",
    "    y_pred = model.predict(X_test_tfidf)  # Predict on test set\n",
    "\n",
    "    print(f\"\\n🔹 Model: {name}\")\n",
    "    print(f\"Accuracy: {accuracy_score(y_test, y_pred):.4f}\")\n",
    "    \n",
    "    print(classification_report(y_test, y_pred))\n",
    "    print(confusion_matrix(y_test, y_pred))\n"
   ]
  },
  {
   "cell_type": "markdown",
   "id": "4f9d2551",
   "metadata": {},
   "source": [
    "# Deep learning models "
   ]
  },
  {
   "cell_type": "code",
   "execution_count": 31,
   "id": "d4236012",
   "metadata": {},
   "outputs": [
    {
     "name": "stderr",
     "output_type": "stream",
     "text": [
      "2025-03-22 20:20:01.675484: I external/local_xla/xla/tsl/cuda/cudart_stub.cc:32] Could not find cuda drivers on your machine, GPU will not be used.\n",
      "2025-03-22 20:20:01.680543: I external/local_xla/xla/tsl/cuda/cudart_stub.cc:32] Could not find cuda drivers on your machine, GPU will not be used.\n",
      "2025-03-22 20:20:01.692809: E external/local_xla/xla/stream_executor/cuda/cuda_fft.cc:467] Unable to register cuFFT factory: Attempting to register factory for plugin cuFFT when one has already been registered\n",
      "WARNING: All log messages before absl::InitializeLog() is called are written to STDERR\n",
      "E0000 00:00:1742664001.712503   10740 cuda_dnn.cc:8579] Unable to register cuDNN factory: Attempting to register factory for plugin cuDNN when one has already been registered\n",
      "E0000 00:00:1742664001.718298   10740 cuda_blas.cc:1407] Unable to register cuBLAS factory: Attempting to register factory for plugin cuBLAS when one has already been registered\n",
      "W0000 00:00:1742664001.732052   10740 computation_placer.cc:177] computation placer already registered. Please check linkage and avoid linking the same target more than once.\n",
      "W0000 00:00:1742664001.732064   10740 computation_placer.cc:177] computation placer already registered. Please check linkage and avoid linking the same target more than once.\n",
      "W0000 00:00:1742664001.732067   10740 computation_placer.cc:177] computation placer already registered. Please check linkage and avoid linking the same target more than once.\n",
      "W0000 00:00:1742664001.732068   10740 computation_placer.cc:177] computation placer already registered. Please check linkage and avoid linking the same target more than once.\n",
      "2025-03-22 20:20:01.736908: I tensorflow/core/platform/cpu_feature_guard.cc:210] This TensorFlow binary is optimized to use available CPU instructions in performance-critical operations.\n",
      "To enable the following instructions: AVX2 FMA, in other operations, rebuild TensorFlow with the appropriate compiler flags.\n"
     ]
    },
    {
     "name": "stdout",
     "output_type": "stream",
     "text": [
      "Unique labels: {np.int64(0), np.int64(1)}\n"
     ]
    }
   ],
   "source": [
    "import tensorflow as tf\n",
    "from tensorflow import keras\n",
    "from tensorflow.keras.models import Sequential\n",
    "from tensorflow.keras.layers import SimpleRNN, LSTM, Dense, Dropout\n",
    "from tensorflow.keras.optimizers import Adam\n",
    "from sklearn.preprocessing import LabelEncoder\n",
    "\n",
    "# Convert TF-IDF sparse matrix to dense arrays\n",
    "X_train_dense = X_train_tfidf.toarray()\n",
    "X_test_dense = X_test_tfidf.toarray()\n",
    "\n",
    "# Encode labels (Ensuring Binary Format)\n",
    "le = LabelEncoder()\n",
    "y_train_encoded = le.fit_transform(y_train)  # Already 0s and 1s\n",
    "y_test_encoded = le.transform(y_test)\n",
    "\n",
    "# Define input shape\n",
    "input_shape = X_train_dense.shape[1]\n",
    "\n",
    "# Check unique labels (should be [0, 1])\n",
    "print(\"Unique labels:\", set(y_train_encoded))\n"
   ]
  },
  {
   "cell_type": "code",
   "execution_count": 37,
   "id": "3c2e4d2d",
   "metadata": {},
   "outputs": [
    {
     "name": "stderr",
     "output_type": "stream",
     "text": [
      "/home/western/anaconda3/envs/nlpenv/lib/python3.10/site-packages/keras/src/layers/core/dense.py:87: UserWarning: Do not pass an `input_shape`/`input_dim` argument to a layer. When using Sequential models, prefer using an `Input(shape)` object as the first layer in the model instead.\n",
      "  super().__init__(activity_regularizer=activity_regularizer, **kwargs)\n"
     ]
    },
    {
     "name": "stdout",
     "output_type": "stream",
     "text": [
      "Epoch 1/10\n",
      "\u001b[1m44/44\u001b[0m \u001b[32m━━━━━━━━━━━━━━━━━━━━\u001b[0m\u001b[37m\u001b[0m \u001b[1m3s\u001b[0m 23ms/step - accuracy: 0.6136 - loss: 0.6807 - val_accuracy: 0.8491 - val_loss: 0.5866\n",
      "Epoch 2/10\n",
      "\u001b[1m44/44\u001b[0m \u001b[32m━━━━━━━━━━━━━━━━━━━━\u001b[0m\u001b[37m\u001b[0m \u001b[1m1s\u001b[0m 22ms/step - accuracy: 0.8556 - loss: 0.5187 - val_accuracy: 0.8419 - val_loss: 0.3935\n",
      "Epoch 3/10\n",
      "\u001b[1m44/44\u001b[0m \u001b[32m━━━━━━━━━━━━━━━━━━━━\u001b[0m\u001b[37m\u001b[0m \u001b[1m1s\u001b[0m 25ms/step - accuracy: 0.9127 - loss: 0.2968 - val_accuracy: 0.8584 - val_loss: 0.3261\n",
      "Epoch 4/10\n",
      "\u001b[1m44/44\u001b[0m \u001b[32m━━━━━━━━━━━━━━━━━━━━\u001b[0m\u001b[37m\u001b[0m \u001b[1m1s\u001b[0m 23ms/step - accuracy: 0.9584 - loss: 0.1744 - val_accuracy: 0.8591 - val_loss: 0.3243\n",
      "Epoch 5/10\n",
      "\u001b[1m44/44\u001b[0m \u001b[32m━━━━━━━━━━━━━━━━━━━━\u001b[0m\u001b[37m\u001b[0m \u001b[1m1s\u001b[0m 23ms/step - accuracy: 0.9698 - loss: 0.1222 - val_accuracy: 0.8534 - val_loss: 0.3442\n",
      "Epoch 6/10\n",
      "\u001b[1m44/44\u001b[0m \u001b[32m━━━━━━━━━━━━━━━━━━━━\u001b[0m\u001b[37m\u001b[0m \u001b[1m1s\u001b[0m 32ms/step - accuracy: 0.9880 - loss: 0.0758 - val_accuracy: 0.8505 - val_loss: 0.3738\n",
      "Epoch 7/10\n",
      "\u001b[1m44/44\u001b[0m \u001b[32m━━━━━━━━━━━━━━━━━━━━\u001b[0m\u001b[37m\u001b[0m \u001b[1m1s\u001b[0m 22ms/step - accuracy: 0.9893 - loss: 0.0568 - val_accuracy: 0.8484 - val_loss: 0.4008\n",
      "Epoch 8/10\n",
      "\u001b[1m44/44\u001b[0m \u001b[32m━━━━━━━━━━━━━━━━━━━━\u001b[0m\u001b[37m\u001b[0m \u001b[1m1s\u001b[0m 31ms/step - accuracy: 0.9970 - loss: 0.0349 - val_accuracy: 0.8426 - val_loss: 0.4386\n",
      "Epoch 9/10\n",
      "\u001b[1m44/44\u001b[0m \u001b[32m━━━━━━━━━━━━━━━━━━━━\u001b[0m\u001b[37m\u001b[0m \u001b[1m1s\u001b[0m 22ms/step - accuracy: 0.9980 - loss: 0.0253 - val_accuracy: 0.8462 - val_loss: 0.4705\n",
      "Epoch 10/10\n",
      "\u001b[1m44/44\u001b[0m \u001b[32m━━━━━━━━━━━━━━━━━━━━\u001b[0m\u001b[37m\u001b[0m \u001b[1m1s\u001b[0m 31ms/step - accuracy: 0.9985 - loss: 0.0202 - val_accuracy: 0.8462 - val_loss: 0.4968\n",
      "\u001b[1m44/44\u001b[0m \u001b[32m━━━━━━━━━━━━━━━━━━━━\u001b[0m\u001b[37m\u001b[0m \u001b[1m0s\u001b[0m 7ms/step - accuracy: 0.8452 - loss: 0.4852\n",
      "\n",
      "LSTM Test Accuracy: 0.8462\n"
     ]
    }
   ],
   "source": [
    "# Build LSTM Model for Binary Classification\n",
    "lstm_model = Sequential([\n",
    "    Dense(64, activation='relu', input_shape=(input_shape,)),  \n",
    "    Dropout(0.3),\n",
    "    Dense(16, activation='relu'),\n",
    "    Dropout(0.3),\n",
    "    Dense(1, activation='sigmoid')  # Sigmoid for binary classification\n",
    "])\n",
    "\n",
    "# Compile model\n",
    "lstm_model.compile(loss='binary_crossentropy', optimizer=Adam(0.001), metrics=['accuracy'])\n",
    "\n",
    "# Train model\n",
    "lstm_model.fit(X_train_dense, y_train_encoded, epochs=10, batch_size=128, validation_data=(X_test_dense, y_test_encoded))\n",
    "\n",
    "# Evaluate model\n",
    "test_loss, test_acc = lstm_model.evaluate(X_test_dense, y_test_encoded)\n",
    "print(f\"\\nLSTM Test Accuracy: {test_acc:.4f}\")\n"
   ]
  },
  {
   "cell_type": "code",
   "execution_count": 34,
   "id": "7b4806eb",
   "metadata": {},
   "outputs": [
    {
     "name": "stderr",
     "output_type": "stream",
     "text": [
      "/home/western/anaconda3/envs/nlpenv/lib/python3.10/site-packages/keras/src/layers/core/dense.py:87: UserWarning: Do not pass an `input_shape`/`input_dim` argument to a layer. When using Sequential models, prefer using an `Input(shape)` object as the first layer in the model instead.\n",
      "  super().__init__(activity_regularizer=activity_regularizer, **kwargs)\n"
     ]
    },
    {
     "name": "stdout",
     "output_type": "stream",
     "text": [
      "Epoch 1/10\n",
      "\u001b[1m88/88\u001b[0m \u001b[32m━━━━━━━━━━━━━━━━━━━━\u001b[0m\u001b[37m\u001b[0m \u001b[1m8s\u001b[0m 78ms/step - accuracy: 0.6840 - loss: 0.5781 - val_accuracy: 0.8512 - val_loss: 0.3479\n",
      "Epoch 2/10\n",
      "\u001b[1m88/88\u001b[0m \u001b[32m━━━━━━━━━━━━━━━━━━━━\u001b[0m\u001b[37m\u001b[0m \u001b[1m7s\u001b[0m 79ms/step - accuracy: 0.9514 - loss: 0.1402 - val_accuracy: 0.8433 - val_loss: 0.3949\n",
      "Epoch 3/10\n",
      "\u001b[1m88/88\u001b[0m \u001b[32m━━━━━━━━━━━━━━━━━━━━\u001b[0m\u001b[37m\u001b[0m \u001b[1m7s\u001b[0m 78ms/step - accuracy: 0.9928 - loss: 0.0378 - val_accuracy: 0.8319 - val_loss: 0.5652\n",
      "Epoch 4/10\n",
      "\u001b[1m88/88\u001b[0m \u001b[32m━━━━━━━━━━━━━━━━━━━━\u001b[0m\u001b[37m\u001b[0m \u001b[1m7s\u001b[0m 79ms/step - accuracy: 0.9986 - loss: 0.0073 - val_accuracy: 0.8362 - val_loss: 0.6455\n",
      "Epoch 5/10\n",
      "\u001b[1m88/88\u001b[0m \u001b[32m━━━━━━━━━━━━━━━━━━━━\u001b[0m\u001b[37m\u001b[0m \u001b[1m7s\u001b[0m 78ms/step - accuracy: 1.0000 - loss: 0.0015 - val_accuracy: 0.8355 - val_loss: 0.7043\n",
      "Epoch 6/10\n",
      "\u001b[1m88/88\u001b[0m \u001b[32m━━━━━━━━━━━━━━━━━━━━\u001b[0m\u001b[37m\u001b[0m \u001b[1m7s\u001b[0m 79ms/step - accuracy: 1.0000 - loss: 7.8289e-04 - val_accuracy: 0.8355 - val_loss: 0.7446\n",
      "Epoch 7/10\n",
      "\u001b[1m88/88\u001b[0m \u001b[32m━━━━━━━━━━━━━━━━━━━━\u001b[0m\u001b[37m\u001b[0m \u001b[1m7s\u001b[0m 79ms/step - accuracy: 1.0000 - loss: 4.4670e-04 - val_accuracy: 0.8348 - val_loss: 0.7772\n",
      "Epoch 8/10\n",
      "\u001b[1m88/88\u001b[0m \u001b[32m━━━━━━━━━━━━━━━━━━━━\u001b[0m\u001b[37m\u001b[0m \u001b[1m7s\u001b[0m 76ms/step - accuracy: 1.0000 - loss: 2.8383e-04 - val_accuracy: 0.8362 - val_loss: 0.8042\n",
      "Epoch 9/10\n",
      "\u001b[1m88/88\u001b[0m \u001b[32m━━━━━━━━━━━━━━━━━━━━\u001b[0m\u001b[37m\u001b[0m \u001b[1m7s\u001b[0m 77ms/step - accuracy: 1.0000 - loss: 2.3467e-04 - val_accuracy: 0.8333 - val_loss: 0.8264\n",
      "Epoch 10/10\n",
      "\u001b[1m88/88\u001b[0m \u001b[32m━━━━━━━━━━━━━━━━━━━━\u001b[0m\u001b[37m\u001b[0m \u001b[1m7s\u001b[0m 75ms/step - accuracy: 1.0000 - loss: 1.8626e-04 - val_accuracy: 0.8326 - val_loss: 0.8485\n",
      "\u001b[1m44/44\u001b[0m \u001b[32m━━━━━━━━━━━━━━━━━━━━\u001b[0m\u001b[37m\u001b[0m \u001b[1m1s\u001b[0m 12ms/step - accuracy: 0.8264 - loss: 0.8460\n",
      "\n",
      "LSTM Test Accuracy: 0.8326\n"
     ]
    }
   ],
   "source": [
    "# Build LSTM Model for Binary Classification\n",
    "lstm_model = Sequential([\n",
    "    Dense(512, activation='relu', input_shape=(input_shape,)),  \n",
    "    Dropout(0.3),\n",
    "    Dense(256, activation='relu'),\n",
    "    Dropout(0.3),\n",
    "    Dense(1, activation='sigmoid')  # Sigmoid for binary classification\n",
    "])\n",
    "\n",
    "# Compile model\n",
    "lstm_model.compile(loss='binary_crossentropy', optimizer=Adam(0.001), metrics=['accuracy'])\n",
    "\n",
    "# Train model\n",
    "lstm_model.fit(X_train_dense, y_train_encoded, epochs=10, batch_size=64, validation_data=(X_test_dense, y_test_encoded))\n",
    "\n",
    "# Evaluate model\n",
    "test_loss, test_acc = lstm_model.evaluate(X_test_dense, y_test_encoded)\n",
    "print(f\"\\nLSTM Test Accuracy: {test_acc:.4f}\")\n"
   ]
  },
  {
   "cell_type": "code",
   "execution_count": 35,
   "id": "fdbf6770",
   "metadata": {},
   "outputs": [
    {
     "name": "stdout",
     "output_type": "stream",
     "text": [
      "Epoch 1/10\n",
      "\u001b[1m88/88\u001b[0m \u001b[32m━━━━━━━━━━━━━━━━━━━━\u001b[0m\u001b[37m\u001b[0m \u001b[1m7s\u001b[0m 82ms/step - accuracy: 1.0000 - loss: 1.3823e-04 - val_accuracy: 0.8340 - val_loss: 0.8682\n",
      "Epoch 2/10\n",
      "\u001b[1m88/88\u001b[0m \u001b[32m━━━━━━━━━━━━━━━━━━━━\u001b[0m\u001b[37m\u001b[0m \u001b[1m7s\u001b[0m 77ms/step - accuracy: 1.0000 - loss: 1.2361e-04 - val_accuracy: 0.8333 - val_loss: 0.8877\n",
      "Epoch 3/10\n",
      "\u001b[1m88/88\u001b[0m \u001b[32m━━━━━━━━━━━━━━━━━━━━\u001b[0m\u001b[37m\u001b[0m \u001b[1m7s\u001b[0m 80ms/step - accuracy: 1.0000 - loss: 9.1219e-05 - val_accuracy: 0.8326 - val_loss: 0.9053\n",
      "Epoch 4/10\n",
      "\u001b[1m88/88\u001b[0m \u001b[32m━━━━━━━━━━━━━━━━━━━━\u001b[0m\u001b[37m\u001b[0m \u001b[1m7s\u001b[0m 77ms/step - accuracy: 1.0000 - loss: 6.8483e-05 - val_accuracy: 0.8340 - val_loss: 0.9199\n",
      "Epoch 5/10\n",
      "\u001b[1m88/88\u001b[0m \u001b[32m━━━━━━━━━━━━━━━━━━━━\u001b[0m\u001b[37m\u001b[0m \u001b[1m7s\u001b[0m 75ms/step - accuracy: 1.0000 - loss: 5.7676e-05 - val_accuracy: 0.8333 - val_loss: 0.9342\n",
      "Epoch 6/10\n",
      "\u001b[1m88/88\u001b[0m \u001b[32m━━━━━━━━━━━━━━━━━━━━\u001b[0m\u001b[37m\u001b[0m \u001b[1m7s\u001b[0m 75ms/step - accuracy: 1.0000 - loss: 5.3032e-05 - val_accuracy: 0.8340 - val_loss: 0.9485\n",
      "Epoch 7/10\n",
      "\u001b[1m88/88\u001b[0m \u001b[32m━━━━━━━━━━━━━━━━━━━━\u001b[0m\u001b[37m\u001b[0m \u001b[1m7s\u001b[0m 74ms/step - accuracy: 1.0000 - loss: 4.6154e-05 - val_accuracy: 0.8348 - val_loss: 0.9624\n",
      "Epoch 8/10\n",
      "\u001b[1m88/88\u001b[0m \u001b[32m━━━━━━━━━━━━━━━━━━━━\u001b[0m\u001b[37m\u001b[0m \u001b[1m6s\u001b[0m 69ms/step - accuracy: 1.0000 - loss: 3.7504e-05 - val_accuracy: 0.8348 - val_loss: 0.9750\n",
      "Epoch 9/10\n",
      "\u001b[1m88/88\u001b[0m \u001b[32m━━━━━━━━━━━━━━━━━━━━\u001b[0m\u001b[37m\u001b[0m \u001b[1m6s\u001b[0m 73ms/step - accuracy: 1.0000 - loss: 3.6364e-05 - val_accuracy: 0.8348 - val_loss: 0.9875\n",
      "Epoch 10/10\n",
      "\u001b[1m88/88\u001b[0m \u001b[32m━━━━━━━━━━━━━━━━━━━━\u001b[0m\u001b[37m\u001b[0m \u001b[1m7s\u001b[0m 74ms/step - accuracy: 1.0000 - loss: 2.8524e-05 - val_accuracy: 0.8348 - val_loss: 1.0003\n"
     ]
    },
    {
     "data": {
      "image/png": "[encoded data removed]",
      "text/plain": [
       "<Figure size 1200x500 with 2 Axes>"
      ]
     },
     "metadata": {},
     "output_type": "display_data"
    }
   ],
   "source": [
    "import matplotlib.pyplot as plt\n",
    "\n",
    "# Train the model and store history\n",
    "history = lstm_model.fit(\n",
    "    X_train_dense, y_train_encoded,\n",
    "    epochs=10,\n",
    "    batch_size=64,\n",
    "    validation_data=(X_test_dense, y_test_encoded)\n",
    ")\n",
    "\n",
    "# Plot Training & Validation Loss\n",
    "plt.figure(figsize=(12, 5))\n",
    "\n",
    "plt.subplot(1, 2, 1)\n",
    "plt.plot(history.history['loss'], label='Train Loss', marker='o')\n",
    "plt.plot(history.history['val_loss'], label='Val Loss', marker='o')\n",
    "plt.xlabel('Epochs')\n",
    "plt.ylabel('Loss')\n",
    "plt.title('Training & Validation Loss')\n",
    "plt.legend()\n",
    "plt.grid()\n",
    "\n",
    "# Plot Training & Validation Accuracy\n",
    "plt.subplot(1, 2, 2)\n",
    "plt.plot(history.history['accuracy'], label='Train Accuracy', marker='o')\n",
    "plt.plot(history.history['val_accuracy'], label='Val Accuracy', marker='o')\n",
    "plt.xlabel('Epochs')\n",
    "plt.ylabel('Accuracy')\n",
    "plt.title('Training & Validation Accuracy')\n",
    "plt.legend()\n",
    "plt.grid()\n",
    "\n",
    "plt.show()\n"
   ]
  },
  {
   "cell_type": "code",
   "execution_count": null,
   "id": "9e112a64",
   "metadata": {},
   "outputs": [],
   "source": []
  }
 ],
 "metadata": {
  "kernelspec": {
   "display_name": "NLP Kernel",
   "language": "python",
   "name": "nlpenv"
  },
  "language_info": {
   "codemirror_mode": {
    "name": "ipython",
    "version": 3
   },
   "file_extension": ".py",
   "mimetype": "text/x-python",
   "name": "python",
   "nbconvert_exporter": "python",
   "pygments_lexer": "ipython3",
   "version": "3.10.16"
  }
 },
 "nbformat": 4,
 "nbformat_minor": 5
}
